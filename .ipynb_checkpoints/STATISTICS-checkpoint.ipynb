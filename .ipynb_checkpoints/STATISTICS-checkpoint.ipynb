{
 "cells": [
  {
   "cell_type": "markdown",
   "metadata": {},
   "source": [
    "# Demonstrate The Central Limit Theorem\n"
   ]
  },
  {
   "cell_type": "code",
   "execution_count": 1,
   "metadata": {},
   "outputs": [
    {
     "data": {
      "text/plain": [
       "<matplotlib.axes._subplots.AxesSubplot at 0x10e6c7ba8>"
      ]
     },
     "execution_count": 1,
     "metadata": {},
     "output_type": "execute_result"
    },
    {
     "data": {
      "image/png": "[encoded data removed]",
      "text/plain": [
       "<matplotlib.figure.Figure at 0x10e68d320>"
      ]
     },
     "metadata": {},
     "output_type": "display_data"
    }
   ],
   "source": [
    "# Import packages\n",
    "import pandas as pd\n",
    "import numpy as np\n",
    "\n",
    "# Set matplotlib as inline\n",
    "%matplotlib inline  \n",
    "\n",
    "# Create Population Data From Non-Normal Distribution\n",
    "# Create an empty dataframe\n",
    "population = pd.DataFrame()\n",
    "\n",
    "# Create an column that is 10000 random numbers drawn from a uniform distribution\n",
    "population['numbers'] = np.random.uniform(0,10000,size=10000)\n",
    "\n",
    "# Plot a histogram of the score data.\n",
    "# This confirms the data is not a normal distribution.\n",
    "population['numbers'].hist(bins=100)"
   ]
  },
  {
   "cell_type": "code",
   "execution_count": 2,
   "metadata": {},
   "outputs": [
    {
     "data": {
      "text/plain": [
       "4995.682016673781"
      ]
     },
     "execution_count": 2,
     "metadata": {},
     "output_type": "execute_result"
    }
   ],
   "source": [
    "# View the True Mean Of Population\n",
    "# View the mean of the numbers\n",
    "population['numbers'].mean()"
   ]
  },
  {
   "cell_type": "code",
   "execution_count": 4,
   "metadata": {},
   "outputs": [
    {
     "data": {
      "text/plain": [
       "<matplotlib.axes._subplots.AxesSubplot at 0x105ecf940>"
      ]
     },
     "execution_count": 4,
     "metadata": {},
     "output_type": "execute_result"
    },
    {
     "data": {
      "image/png": "[encoded data removed]",
      "text/plain": [
       "<matplotlib.figure.Figure at 0x105ecf2b0>"
      ]
     },
     "metadata": {},
     "output_type": "display_data"
    }
   ],
   "source": [
    "# Take A Sample Mean, Repeat 1000 Times\n",
    "# Create a list\n",
    "sampled_means = []\n",
    "\n",
    "# For 1000  times,\n",
    "for i in range(0,1000):\n",
    "    # Take a random sample of 100 rows from the population, take the mean of those rows, append to sampled_means\n",
    "    sampled_means.append(population.sample(n=100).mean().values[0])\n",
    "    \n",
    "    \n",
    "# Plot The Sample Means Of All 100 Samples\n",
    "# Plot a histogram of sampled_means. \n",
    "# It is clearly normally distributed and centered around 5000\n",
    "pd.Series(sampled_means).hist(bins=100)"
   ]
  },
  {
   "cell_type": "markdown",
   "metadata": {},
   "source": [
    "This is the critical chart, remember that the population distribution was uniform, however, this distribution is approaching normality. This is the key point to the central limit theory, and the reason we can assume sample means are not bias."
   ]
  },
  {
   "cell_type": "code",
   "execution_count": 5,
   "metadata": {},
   "outputs": [
    {
     "data": {
      "text/plain": [
       "5011.339029441697"
      ]
     },
     "execution_count": 5,
     "metadata": {},
     "output_type": "execute_result"
    }
   ],
   "source": [
    "# View The Mean Sample Mean\n",
    "# View the mean of the sampled_means\n",
    "pd.Series(sampled_means).mean()"
   ]
  },
  {
   "cell_type": "code",
   "execution_count": 7,
   "metadata": {},
   "outputs": [
    {
     "name": "stdout",
     "output_type": "stream",
     "text": [
      "The Mean Sample Mean is only -15.657013 different the True Population mean!\n"
     ]
    }
   ],
   "source": [
    "# Compare To True Mean\n",
    "# Subtract Mean Sample Mean From True Population Mean\n",
    "error = population['numbers'].mean() - pd.Series(sampled_means).mean()\n",
    "\n",
    "# Print\n",
    "print('The Mean Sample Mean is only %f different the True Population mean!' % error)"
   ]
  },
  {
   "cell_type": "markdown",
   "metadata": {},
   "source": [
    "# Pearsons Correlation Coefficient\n"
   ]
  },
  {
   "cell_type": "code",
   "execution_count": 12,
   "metadata": {},
   "outputs": [],
   "source": [
    "import statistics as stats\n",
    "\n",
    "# Create Data\n",
    "x = [1,2,3,4,5,6,7,8,9]\n",
    "y = [2,1,2,4.5,7,6.5,6,9,9.5]"
   ]
  },
  {
   "cell_type": "markdown",
   "metadata": {},
   "source": [
    "<img src=\"pearson.png\" width= 800 >"
   ]
  },
  {
   "cell_type": "code",
   "execution_count": 13,
   "metadata": {
    "collapsed": true
   },
   "outputs": [],
   "source": [
    "# Create a function\n",
    "def pearson(x,y):\n",
    "    \n",
    "    # Create n, the number of observations in the data\n",
    "    n = len(x)\n",
    "    \n",
    "    # Create lists to store the standard scores\n",
    "    standard_score_x = []\n",
    "    standard_score_y = []\n",
    "    \n",
    "    # Calculate the mean of x\n",
    "    mean_x = stats.mean(x)\n",
    "    \n",
    "    # Calculate the standard deviation of x\n",
    "    standard_deviation_x = stats.stdev(x)\n",
    "    \n",
    "    # Calculate the mean of y\n",
    "    mean_y = stats.mean(y)\n",
    "    \n",
    "    # Calculate the standard deviation of y\n",
    "    standard_deviation_y = stats.stdev(y)\n",
    "\n",
    "    # For each observation in x\n",
    "    for observation in x: \n",
    "        \n",
    "        # Calculate the standard score of x\n",
    "        standard_score_x.append((observation - mean_x)/standard_deviation_x) \n",
    "\n",
    "    # For each observation in y\n",
    "    for observation in y:\n",
    "        \n",
    "        # Calculate the standard score of y\n",
    "        standard_score_y.append((observation - mean_y)/standard_deviation_y)\n",
    "\n",
    "    # Multiple the standard scores together, sum them, then divide by n-1, return that value\n",
    "    return (sum([i*j for i,j in zip(standard_score_x, standard_score_y)]))/(n-1)"
   ]
  },
  {
   "cell_type": "code",
   "execution_count": 14,
   "metadata": {},
   "outputs": [
    {
     "data": {
      "text/plain": [
       "0.9412443251336238"
      ]
     },
     "execution_count": 14,
     "metadata": {},
     "output_type": "execute_result"
    }
   ],
   "source": [
    "# Show Pearson's Correlation Coefficient\n",
    "pearson(x,y)"
   ]
  },
  {
   "cell_type": "markdown",
   "metadata": {},
   "source": [
    "# Probability Mass Functions"
   ]
  },
  {
   "cell_type": "code",
   "execution_count": 18,
   "metadata": {},
   "outputs": [
    {
     "data": {
      "image/png": "[encoded data removed]",
      "text/plain": [
       "<matplotlib.figure.Figure at 0x111ce6400>"
      ]
     },
     "metadata": {},
     "output_type": "display_data"
    }
   ],
   "source": [
    "# Load libraries\n",
    "import matplotlib.pyplot as plt\n",
    "\n",
    "# Create Data\n",
    "# Create some random integer data\n",
    "data = [3,2,3,4,2,3,5,2,2,3,3,5,2,2,5,6,2,2,2,3,6,6,2,4,3,2,3]\n",
    "\n",
    "# Create A Count Of Values\n",
    "# Create a dictionary to store the counts\n",
    "count = {}\n",
    "\n",
    "# For each value in the data\n",
    "for observation in data:\n",
    "    # An a key, value pair, with the observation being the key\n",
    "    # and the value being +1\n",
    "    count[observation] = count.get(observation, 0) + 1\n",
    "    \n",
    "# Normalize The Count To Between 0 and 1\n",
    "# Calculate the number of observations\n",
    "n = len(data)\n",
    "\n",
    "# Create a dictionary\n",
    "probability_mass_function = {}\n",
    "\n",
    "# For each unique value,\n",
    "for unique_value, count in count.items():\n",
    "    # Normalize the count by dividing by the length of data, add to the PMC dictionary\n",
    "    probability_mass_function[unique_value] = count / n\n",
    "    \n",
    "# Visualize The PMF\n",
    "# Plot the probability mass function\n",
    "plt.bar(list(probability_mass_function.keys()), probability_mass_function.values(), color='g')\n",
    "plt.show()"
   ]
  },
  {
   "cell_type": "markdown",
   "metadata": {},
   "source": [
    "# Spearmans Rank Correlation\n",
    "Spearman’s rank correlation is the Pearson’s correlation coefficient of the ranked version of the variables.\n"
   ]
  },
  {
   "cell_type": "code",
   "execution_count": 19,
   "metadata": {
    "collapsed": true
   },
   "outputs": [],
   "source": [
    "import numpy as np\n",
    "import pandas as pd\n",
    "import scipy.stats\n",
    "\n",
    "# Create Data\n",
    "# Create two lists of random values\n",
    "x = [1,2,3,4,5,6,7,8,9]\n",
    "y = [2,1,2,4.5,7,6.5,6,9,9.5]"
   ]
  },
  {
   "cell_type": "code",
   "execution_count": 20,
   "metadata": {},
   "outputs": [
    {
     "data": {
      "text/plain": [
       "0.90377360145618091"
      ]
     },
     "execution_count": 20,
     "metadata": {},
     "output_type": "execute_result"
    }
   ],
   "source": [
    "# Create a function that takes in x's and y's\n",
    "def spearmans_rank_correlation(xs, ys):\n",
    "    \n",
    "    # Calculate the rank of x's\n",
    "    xranks = pd.Series(xs).rank()\n",
    "    \n",
    "    # Caclulate the ranking of the y's\n",
    "    yranks = pd.Series(ys).rank()\n",
    "    \n",
    "    # Calculate Pearson's correlation coefficient on the ranked versions of the data\n",
    "    return scipy.stats.pearsonr(xranks, yranks)\n",
    "# Run the function\n",
    "spearmans_rank_correlation(x, y)[0]\n"
   ]
  },
  {
   "cell_type": "code",
   "execution_count": 21,
   "metadata": {},
   "outputs": [
    {
     "data": {
      "text/plain": [
       "0.90377360145618102"
      ]
     },
     "execution_count": 21,
     "metadata": {},
     "output_type": "execute_result"
    }
   ],
   "source": [
    "# Calculate Spearman’s Correlation Using SciPy\n",
    "# Just to check our results, here it Spearman's using Scipy\n",
    "scipy.stats.spearmanr(x, y)[0]"
   ]
  },
  {
   "cell_type": "markdown",
   "metadata": {},
   "source": [
    "# T-tests\n",
    "## One Sample Two-Sided T-Test\n",
    "Imagine the one sample T-test and drawing a (normally shaped) hill centered at 1 and “spread” out with a standard deviation of 1.5, then placing a flag at 0 and looking at where on the hill the flag is location. Is it near the top? Far away from the hill? If the flag is near the very bottom of the hill or farther, then the t-test p-score will be below 0.05."
   ]
  },
  {
   "cell_type": "code",
   "execution_count": 24,
   "metadata": {
    "collapsed": true
   },
   "outputs": [],
   "source": [
    "from scipy import stats\n",
    "import numpy as np\n",
    "\n",
    "# Create Data\n",
    "# Create a list of 20 observations drawn from a random distribution \n",
    "# with mean 1 and a standard deviation of 1.5\n",
    "x = np.random.normal(1, 1.5, 20)\n",
    "\n",
    "# Create a list of 20 observations drawn from a random distribution \n",
    "# with mean 0 and a standard deviation of 1.5\n",
    "y = np.random.normal(0, 1.5, 20)"
   ]
  },
  {
   "cell_type": "code",
   "execution_count": 25,
   "metadata": {},
   "outputs": [
    {
     "data": {
      "text/plain": [
       "2.0210714573852765e-05"
      ]
     },
     "execution_count": 25,
     "metadata": {},
     "output_type": "execute_result"
    }
   ],
   "source": [
    "# Run a t-test to test if the mean of x is statistically significantly different than 0\n",
    "pvalue = stats.ttest_1samp(x, 0)[1]\n",
    "\n",
    "# View the p-value\n",
    "pvalue"
   ]
  },
  {
   "cell_type": "markdown",
   "metadata": {},
   "source": [
    "## Two Variable Unpaired Two-Sided T-Test With Equal Variances\n",
    "Imagine the one sample T-test and drawing two (normally shaped) hills centered at their means and their ‘flattness’ (individual spread) based on the standard deviation. The T-test looks at how much the two hills are overlapping. Are they basically on top of each other? Do just the bottoms of the hill just barely touch? If the tails of the hills are just barely overlapping or are not overlapping at all, the t-test p-score will be below 0.05."
   ]
  },
  {
   "cell_type": "code",
   "execution_count": 26,
   "metadata": {},
   "outputs": [
    {
     "data": {
      "text/plain": [
       "3.8387918637104039e-05"
      ]
     },
     "execution_count": 26,
     "metadata": {},
     "output_type": "execute_result"
    }
   ],
   "source": [
    "stats.ttest_ind(x, y)[1]\n"
   ]
  },
  {
   "cell_type": "markdown",
   "metadata": {},
   "source": [
    "## Two Variable Unpaired Two-Sided T-Test With Unequal Variances\n"
   ]
  },
  {
   "cell_type": "code",
   "execution_count": 27,
   "metadata": {},
   "outputs": [
    {
     "data": {
      "text/plain": [
       "3.8578799874358116e-05"
      ]
     },
     "execution_count": 27,
     "metadata": {},
     "output_type": "execute_result"
    }
   ],
   "source": [
    "stats.ttest_ind(x, y, equal_var=False)[1]\n"
   ]
  },
  {
   "cell_type": "markdown",
   "metadata": {},
   "source": [
    "## Two Variable Paired Two-Sided T-Test\n",
    "Paired T-tests are used when we are taking repeated samples and want to take into account the fact that the two distributions we are testing are paired."
   ]
  },
  {
   "cell_type": "code",
   "execution_count": 28,
   "metadata": {},
   "outputs": [
    {
     "data": {
      "text/plain": [
       "0.00019432061348672932"
      ]
     },
     "execution_count": 28,
     "metadata": {},
     "output_type": "execute_result"
    }
   ],
   "source": [
    "stats.ttest_rel(x, y)[1]\n"
   ]
  },
  {
   "cell_type": "markdown",
   "metadata": {},
   "source": [
    "# Variance and standard deviation"
   ]
  },
  {
   "cell_type": "code",
   "execution_count": 30,
   "metadata": {},
   "outputs": [],
   "source": [
    "# Import data\n",
    "import math\n",
    "\n",
    "# Create Data\n",
    "# Create list of values\n",
    "data = [3,2,3,4,2,3,5,2,2,33,3,5,2,2,5,6,62,2,2,3,6,6,2,23,3,2,3]"
   ]
  },
  {
   "cell_type": "markdown",
   "metadata": {},
   "source": [
    "<img src=\"var.png\" width= 600 >"
   ]
  },
  {
   "cell_type": "code",
   "execution_count": 31,
   "metadata": {},
   "outputs": [
    {
     "data": {
      "text/plain": [
       "160.78463648834017"
      ]
     },
     "execution_count": 31,
     "metadata": {},
     "output_type": "execute_result"
    }
   ],
   "source": [
    "# Calculate n\n",
    "n = len(data)\n",
    "\n",
    "# Calculate the mean\n",
    "mean = sum(data)/len(data)\n",
    "\n",
    "# Create a list of all deviations from the mean\n",
    "all_deviations_from_mean_squared = []\n",
    "\n",
    "# For each observation in the data\n",
    "for observation in data:\n",
    "    \n",
    "    # Calculate the deviation from the mean\n",
    "    deviation_from_mean = (observation - mean)\n",
    "    \n",
    "    # Square it\n",
    "    deviation_from_mean_squared = deviation_from_mean**2\n",
    "    \n",
    "    # Add the result to our list\n",
    "    all_deviations_from_mean_squared.append(deviation_from_mean_squared)\n",
    "\n",
    "# Sum all the squared deviations in our list    \n",
    "sum_of_deviations_from_mean_squared = sum(all_deviations_from_mean_squared)\n",
    "\n",
    "# Divide by n\n",
    "population_variance = sum_of_deviations_from_mean_squared/n\n",
    "\n",
    "# Show variance\n",
    "population_variance    "
   ]
  },
  {
   "cell_type": "code",
   "execution_count": 32,
   "metadata": {},
   "outputs": [
    {
     "data": {
      "text/plain": [
       "12.68008818929664"
      ]
     },
     "execution_count": 32,
     "metadata": {},
     "output_type": "execute_result"
    }
   ],
   "source": [
    "# Calculate Population Standard Deviation\n",
    "# Standard deviation is just the square root of the variance.\n",
    "\n",
    "# Find the square root of the population variance\n",
    "population_standard_deviation = math.sqrt(population_variance)\n",
    "\n",
    "# Print the populaton standard deviation\n",
    "population_standard_deviation"
   ]
  },
  {
   "cell_type": "code",
   "execution_count": null,
   "metadata": {
    "collapsed": true
   },
   "outputs": [],
   "source": []
  }
 ],
 "metadata": {
  "kernelspec": {
   "display_name": "Python 3",
   "language": "python",
   "name": "python3"
  },
  "language_info": {
   "codemirror_mode": {
    "name": "ipython",
    "version": 3
   },
   "file_extension": ".py",
   "mimetype": "text/x-python",
   "name": "python",
   "nbconvert_exporter": "python",
   "pygments_lexer": "ipython3",
   "version": "3.6.0"
  }
 },
 "nbformat": 4,
 "nbformat_minor": 2
}
