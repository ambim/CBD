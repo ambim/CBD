{
 "cells": [
  {
   "cell_type": "markdown",
   "metadata": {},
   "source": [
    "# Simple Unit Test"
   ]
  },
  {
   "cell_type": "code",
   "execution_count": 3,
   "metadata": {
    "collapsed": true
   },
   "outputs": [],
   "source": [
    "import unittest\n",
    "import sys\n",
    "\n",
    "# Create Function To Be Tested\n",
    "def multiply(x, y):\n",
    "    return x * y"
   ]
  },
  {
   "cell_type": "markdown",
   "metadata": {},
   "source": [
    "### Create Test\n",
    "Note: It is standard practice to name a unit test test_ + <function being tested>. This naming standard allows for automated test using some libraries."
   ]
  },
  {
   "cell_type": "code",
   "execution_count": 4,
   "metadata": {},
   "outputs": [
    {
     "name": "stderr",
     "output_type": "stream",
     "text": [
      "test_multiply_two_integers_together (__main__.TestMultiply) ... ok\n",
      "\n",
      "----------------------------------------------------------------------\n",
      "Ran 1 test in 0.001s\n",
      "\n",
      "OK\n"
     ]
    },
    {
     "data": {
      "text/plain": [
       "<unittest.main.TestProgram at 0x104d697f0>"
      ]
     },
     "execution_count": 4,
     "metadata": {},
     "output_type": "execute_result"
    }
   ],
   "source": [
    "# Create a test case\n",
    "class TestMultiply(unittest.TestCase):\n",
    "    # Create the unit test\n",
    "    def test_multiply_two_integers_together(self):\n",
    "        # Test if 4 equals the output of multiply(2,2)\n",
    "        self.assertEqual(4, multiply(2,2))\n",
    "        \n",
    "        # Run the unit test (and don't shut down the Jupyter Notebook)\n",
    "unittest.main(argv=['ignored', '-v'], exit=False)"
   ]
  },
  {
   "cell_type": "markdown",
   "metadata": {},
   "source": [
    "# Test Code Speed\n"
   ]
  },
  {
   "cell_type": "code",
   "execution_count": 5,
   "metadata": {
    "collapsed": true
   },
   "outputs": [],
   "source": [
    "import cProfile\n",
    "\n",
    "#Create A Slow Function\n",
    "def slow_function():\n",
    "    total = 0.0\n",
    "    \n",
    "    for i, _ in enumerate(range(10000)):\n",
    "        \n",
    "        for j, _ in enumerate(range(1, 10000)):\n",
    "            total += (i * j)\n",
    "\n",
    "    return total\n",
    "\n"
   ]
  },
  {
   "cell_type": "code",
   "execution_count": 6,
   "metadata": {},
   "outputs": [
    {
     "name": "stdout",
     "output_type": "stream",
     "text": [
      "         4 function calls in 12.432 seconds\n",
      "\n",
      "   Ordered by: internal time\n",
      "\n",
      "   ncalls  tottime  percall  cumtime  percall filename:lineno(function)\n",
      "        1   12.432   12.432   12.432   12.432 <ipython-input-5-187c27671354>:4(slow_function)\n",
      "        1    0.000    0.000   12.432   12.432 {built-in method builtins.exec}\n",
      "        1    0.000    0.000   12.432   12.432 <string>:1(<module>)\n",
      "        1    0.000    0.000    0.000    0.000 {method 'disable' of '_lsprof.Profiler' objects}\n",
      "\n",
      "\n"
     ]
    }
   ],
   "source": [
    "# Test The Speed Of The Function\n",
    "cProfile.run('slow_function()', sort='time')"
   ]
  },
  {
   "cell_type": "code",
   "execution_count": 10,
   "metadata": {},
   "outputs": [
    {
     "data": {
      "text/plain": [
       "2499000124995000.0"
      ]
     },
     "execution_count": 10,
     "metadata": {},
     "output_type": "execute_result"
    }
   ],
   "source": [
    "# alternative in Jupyter Notebook\n",
    "\n",
    "%timeit\n",
    "slow_function()"
   ]
  },
  {
   "cell_type": "markdown",
   "metadata": {},
   "source": [
    "# =============================\n",
    "# test for a specific exception"
   ]
  },
  {
   "cell_type": "code",
   "execution_count": 11,
   "metadata": {},
   "outputs": [
    {
     "name": "stderr",
     "output_type": "stream",
     "text": [
      "test_input_string (__main__.TestAdd) ... ok\n",
      "test_multiply_two_integers_together (__main__.TestMultiply) ... ok\n",
      "\n",
      "----------------------------------------------------------------------\n",
      "Ran 2 tests in 0.004s\n",
      "\n",
      "OK\n"
     ]
    },
    {
     "data": {
      "text/plain": [
       "<unittest.main.TestProgram at 0x104d9f198>"
      ]
     },
     "execution_count": 11,
     "metadata": {},
     "output_type": "execute_result"
    }
   ],
   "source": [
    "import unittest\n",
    "\n",
    "# Create A Function To Test\n",
    "def add(x, y):\n",
    "    return x + y\n",
    "\n",
    "# Create Test Case\n",
    "# Create a test case\n",
    "class TestAdd(unittest.TestCase):\n",
    "    # Create the unit test\n",
    "    def test_input_string(self):\n",
    "        # Test To make sure a TypeError exception is raised\n",
    "        self.assertRaises(TypeError, add('Banana', 'Boat'))\n",
    "        \n",
    "# Run the unit test (and don't shut down the Jupyter Notebook)\n",
    "unittest.main(argv=['ignored', '-v'], exit=False)"
   ]
  },
  {
   "cell_type": "markdown",
   "metadata": {},
   "source": [
    "# Test if output is close to a value\n",
    "\n"
   ]
  },
  {
   "cell_type": "code",
   "execution_count": 12,
   "metadata": {},
   "outputs": [
    {
     "name": "stderr",
     "output_type": "stream",
     "text": [
      "test_add_two_floats_roughly_equals_11 (__main__.TestAdd) ... ok\n",
      "test_multiply_two_integers_together (__main__.TestMultiply) ... ok\n",
      "\n",
      "----------------------------------------------------------------------\n",
      "Ran 2 tests in 0.002s\n",
      "\n",
      "OK\n"
     ]
    },
    {
     "data": {
      "text/plain": [
       "<unittest.main.TestProgram at 0x104d9fc50>"
      ]
     },
     "execution_count": 12,
     "metadata": {},
     "output_type": "execute_result"
    }
   ],
   "source": [
    "import unittest\n",
    "import sys\n",
    "\n",
    "# Create Function To Be Tested\n",
    "def add(x, y):\n",
    "    return x + y\n",
    "\n",
    "# Create Test\n",
    "# Create a test case\n",
    "class TestAdd(unittest.TestCase):\n",
    "    # Create the unit test\n",
    "    def test_add_two_floats_roughly_equals_11(self):\n",
    "        # Test if add(4.48293848, 6.5023845) return roughly (to 1 place) 11 (actual product: 10.98532298)\n",
    "        self.assertAlmostEqual(11, add(4.48293848, 6.5023845), places=1)\n",
    "        \n",
    "# Run the unit test (and don't shut down the Jupyter Notebook)\n",
    "unittest.main(argv=['ignored', '-v'], exit=False)"
   ]
  },
  {
   "cell_type": "code",
   "execution_count": null,
   "metadata": {
    "collapsed": true
   },
   "outputs": [],
   "source": []
  }
 ],
 "metadata": {
  "kernelspec": {
   "display_name": "Python 3",
   "language": "python",
   "name": "python3"
  },
  "language_info": {
   "codemirror_mode": {
    "name": "ipython",
    "version": 3
   },
   "file_extension": ".py",
   "mimetype": "text/x-python",
   "name": "python",
   "nbconvert_exporter": "python",
   "pygments_lexer": "ipython3",
   "version": "3.6.0"
  }
 },
 "nbformat": 4,
 "nbformat_minor": 2
}
